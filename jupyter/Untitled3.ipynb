{
 "cells": [
  {
   "cell_type": "code",
   "execution_count": 12,
   "metadata": {},
   "outputs": [
    {
     "data": {
      "text/plain": [
       "<matplotlib.axes._subplots.AxesSubplot at 0x245d2a63b08>"
      ]
     },
     "execution_count": 12,
     "metadata": {},
     "output_type": "execute_result"
    },
    {
     "data": {
      "image/png": "[encoded data removed]",
      "text/plain": [
       "<Figure size 432x288 with 1 Axes>"
      ]
     },
     "metadata": {
      "needs_background": "light"
     },
     "output_type": "display_data"
    }
   ],
   "source": [
    "import numpy as np\n",
    "import pandas as pd\n",
    "from scipy import stats\n",
    "from scipy.stats import poisson\n",
    "np.random.seed(10)\n",
    "\n",
    "long_breaks = stats.poisson.rvs(loc=10, mu=60, size=3000)\n",
    "#pd.Series(long_breaks).hist()\n",
    "\n",
    "short_breaks = stats.poisson.rvs(loc=10, mu=15, size=6000)\n",
    "#pd.Series(short_breaks).hist()\n",
    "\n",
    "breaks = np.concatenate((long_breaks, short_breaks))\n",
    "\n",
    "pd.Series(breaks).hist()\n"
   ]
  },
  {
   "cell_type": "code",
   "execution_count": 13,
   "metadata": {},
   "outputs": [
    {
     "data": {
      "text/plain": [
       "39.90911111111111"
      ]
     },
     "execution_count": 13,
     "metadata": {},
     "output_type": "execute_result"
    }
   ],
   "source": [
    "breaks.mean()"
   ]
  },
  {
   "cell_type": "code",
   "execution_count": 21,
   "metadata": {},
   "outputs": [
    {
     "data": {
      "text/plain": [
       "36.31"
      ]
     },
     "execution_count": 21,
     "metadata": {},
     "output_type": "execute_result"
    }
   ],
   "source": [
    "sample_breaks = np.random.choice(a = breaks, size=100)\n",
    "sample_breaks.mean()"
   ]
  },
  {
   "cell_type": "code",
   "execution_count": 27,
   "metadata": {},
   "outputs": [
    {
     "name": "stdout",
     "output_type": "stream",
     "text": [
      "asian proportion estimate: 0.288\n",
      "hispanic proportion estimate: 0.103\n",
      "other proportion estimate: 0.299\n",
      "white proportion estimate: 0.203\n",
      "black proportion estimate: 0.107\n"
     ]
    }
   ],
   "source": [
    "employee_races = ([\"white\"]*2000) + ([\"black\"]*1000) + \\\n",
    "                ([\"hispanic\"]*1000) + ([\"asian\"]*3000) + [\"other\"]*3000\n",
    "\n",
    "\n",
    "import random\n",
    "demo_sample = random.sample(employee_races, 1000)\n",
    "demo_sample\n",
    "\n",
    "for race in set(demo_sample):\n",
    "    est = demo_sample.count(race)/1000\n",
    "    print(\"{} proportion estimate: {}\".format(race, est))"
   ]
  },
  {
   "cell_type": "code",
   "execution_count": 28,
   "metadata": {},
   "outputs": [
    {
     "data": {
      "text/plain": [
       "array([[<matplotlib.axes._subplots.AxesSubplot object at 0x00000245D2B26A08>]],\n",
       "      dtype=object)"
      ]
     },
     "execution_count": 28,
     "metadata": {},
     "output_type": "execute_result"
    },
    {
     "data": {
      "image/png": "[encoded data removed]",
      "text/plain": [
       "<Figure size 432x288 with 1 Axes>"
      ]
     },
     "metadata": {
      "needs_background": "light"
     },
     "output_type": "display_data"
    }
   ],
   "source": [
    "pd.DataFrame(breaks).hist(bins=50, range=(5,100))"
   ]
  },
  {
   "cell_type": "code",
   "execution_count": 31,
   "metadata": {},
   "outputs": [
    {
     "data": {
      "text/plain": [
       "array([[<matplotlib.axes._subplots.AxesSubplot object at 0x00000245D2C63E48>]],\n",
       "      dtype=object)"
      ]
     },
     "execution_count": 31,
     "metadata": {},
     "output_type": "execute_result"
    },
    {
     "data": {
      "image/png": "[encoded data removed]",
      "text/plain": [
       "<Figure size 432x288 with 1 Axes>"
      ]
     },
     "metadata": {
      "needs_background": "light"
     },
     "output_type": "display_data"
    }
   ],
   "source": [
    "point_est = []\n",
    "for x in range(500):\n",
    "    sample = np.random.choice(a=breaks, size=100)\n",
    "    point_est.append(sample.mean())\n",
    "\n",
    "pd.DataFrame(point_est).hist(bins=50)\n"
   ]
  }
 ],
 "metadata": {
  "kernelspec": {
   "display_name": "Python 3",
   "language": "python",
   "name": "python3"
  },
  "language_info": {
   "codemirror_mode": {
    "name": "ipython",
    "version": 3
   },
   "file_extension": ".py",
   "mimetype": "text/x-python",
   "name": "python",
   "nbconvert_exporter": "python",
   "pygments_lexer": "ipython3",
   "version": "3.7.6"
  }
 },
 "nbformat": 4,
 "nbformat_minor": 4
}
